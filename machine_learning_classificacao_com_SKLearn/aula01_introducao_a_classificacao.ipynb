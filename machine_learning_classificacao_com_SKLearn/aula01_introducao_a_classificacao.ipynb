{
 "cells": [
  {
   "cell_type": "markdown",
   "id": "d68602f1",
   "metadata": {},
   "source": [
    "# Primeiro treino e teste de um modelo de classificação"
   ]
  },
  {
   "cell_type": "code",
   "execution_count": 1,
   "id": "1ee1f0aa",
   "metadata": {},
   "outputs": [],
   "source": [
    "# Features (1 sim, 0 não)\n",
    "# pelo longo | perna curta | faz au au\n",
    "porco1 = [0, 1, 0]\n",
    "porco2 = [0, 1, 1]\n",
    "porco3 = [1, 1, 0]\n",
    "\n",
    "cachorro1 = [0, 1, 1]\n",
    "cachorro2 = [1, 0, 1]\n",
    "cachorro3 = [1, 1, 1]\n",
    "\n",
    "# 1 => porco, 0 => cachorro\n",
    "treino_x = [porco1, porco2, porco3, cachorro1, cachorro2, cachorro3]\n",
    "treino_y = [1, 1, 1, 0, 0, 0]  # labels"
   ]
  },
  {
   "cell_type": "code",
   "execution_count": 2,
   "id": "bc456c9c",
   "metadata": {
    "scrolled": false
   },
   "outputs": [
    {
     "data": {
      "text/plain": [
       "array([0])"
      ]
     },
     "execution_count": 2,
     "metadata": {},
     "output_type": "execute_result"
    }
   ],
   "source": [
    "from sklearn.svm import LinearSVC\n",
    "\n",
    "# Criando o modelo\n",
    "model = LinearSVC()\n",
    "model.fit(treino_x, treino_y)\n",
    "\n",
    "# Primeiro teste\n",
    "animal_teste = [1, 1, 1]\n",
    "model.predict([animal_teste])"
   ]
  },
  {
   "cell_type": "code",
   "execution_count": 3,
   "id": "6e143f5a",
   "metadata": {},
   "outputs": [],
   "source": [
    "# Testes simultâneos\n",
    "animal_teste1 = [1, 1, 1]\n",
    "animal_teste2 = [1, 1, 0]\n",
    "animal_teste3 = [0, 1, 1]\n",
    "\n",
    "teste_x = [animal_teste1, animal_teste2, animal_teste3]\n",
    "teste_y = [0, 1, 1]\n",
    "previsoes = model.predict(teste_x)"
   ]
  },
  {
   "cell_type": "code",
   "execution_count": 4,
   "id": "923f3590",
   "metadata": {},
   "outputs": [
    {
     "name": "stdout",
     "output_type": "stream",
     "text": [
      "Taxa de acerto: 66.67%\n"
     ]
    }
   ],
   "source": [
    "# Taxa de acerto\n",
    "corretos = (previsoes == teste_y).sum()\n",
    "total = len(teste_x)\n",
    "taxa_de_acerto = (corretos / total) * 100\n",
    "print(f'Taxa de acerto: {taxa_de_acerto:.2f}%')"
   ]
  },
  {
   "cell_type": "code",
   "execution_count": 5,
   "id": "982de978",
   "metadata": {},
   "outputs": [
    {
     "name": "stdout",
     "output_type": "stream",
     "text": [
      "Taxa de acerto: 66.67%\n"
     ]
    }
   ],
   "source": [
    "# Taxa de acerto com accuracy_score\n",
    "from sklearn.metrics import accuracy_score\n",
    "taxa_de_acerto = accuracy_score(teste_y, previsoes)\n",
    "print(f'Taxa de acerto: {(taxa_de_acerto * 100):.2f}%')"
   ]
  }
 ],
 "metadata": {
  "kernelspec": {
   "display_name": "Python 3 (ipykernel)",
   "language": "python",
   "name": "python3"
  },
  "language_info": {
   "codemirror_mode": {
    "name": "ipython",
    "version": 3
   },
   "file_extension": ".py",
   "mimetype": "text/x-python",
   "name": "python",
   "nbconvert_exporter": "python",
   "pygments_lexer": "ipython3",
   "version": "3.11.0"
  }
 },
 "nbformat": 4,
 "nbformat_minor": 5
}
